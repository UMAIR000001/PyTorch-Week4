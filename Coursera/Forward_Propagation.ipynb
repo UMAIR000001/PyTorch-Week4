{
 "cells": [
  {
   "cell_type": "code",
   "execution_count": null,
   "id": "ec7bb1bc",
   "metadata": {},
   "outputs": [],
   "source": [
    "💡 What is Forward Propagation?\n",
    "Forward propagation is the process of passing inputs through the neural network to get the output.\n",
    "\n",
    "Here's what happens in forward propagation (simplified):\n",
    "\n",
    "Inputs are multiplied by weights.\n",
    "\n",
    "Biases are added.\n",
    "\n",
    "The result is passed through an activation function (like sigmoid or ReLU).\n",
    "\n",
    "This repeats layer by layer until the output layer."
   ]
  }
 ],
 "metadata": {
  "language_info": {
   "name": "python"
  }
 },
 "nbformat": 4,
 "nbformat_minor": 5
}
