{
 "cells": [
  {
   "cell_type": "markdown",
   "id": "eee5666c",
   "metadata": {},
   "source": [
    "What is Forward Propagation?\n",
    "Forward propagation is the process of passing inputs through the neural network to get the output.\n",
    "\n",
    "Here's what happens in forward propagation (simplified):\n",
    "\n",
    "Inputs are multiplied by weights.\n",
    "\n",
    "Biases are added.\n",
    "\n",
    "The result is passed through an activation function (like sigmoid or ReLU).\n",
    "\n",
    "This repeats layer by layer until the output layer."
   ]
  },
  {
   "cell_type": "code",
   "execution_count": 78,
   "id": "c5115b87",
   "metadata": {},
   "outputs": [
    {
     "name": "stdout",
     "output_type": "stream",
     "text": [
      "PyTorch version: 2.7.1+cpu\n",
      "NumPy version: 2.3.1\n",
      "Pandas version: 2.3.1\n"
     ]
    }
   ],
   "source": [
    "import torch\n",
    "import numpy as np\n",
    "import pandas as pd\n",
    "import matplotlib.pyplot as plt\n",
    "\n",
    "print(\"PyTorch version:\", torch.__version__)\n",
    "print(\"NumPy version:\", np.__version__)\n",
    "print(\"Pandas version:\", pd.__version__)\n"
   ]
  },
  {
   "cell_type": "markdown",
   "id": "f61d36e1",
   "metadata": {},
   "source": [
    "💡 Real-Life Example with Forward Propagation :\n",
    "You run an ice cream shop. You noticed when the temperature increases, you sell more ice cream. Now, you want a simple neural network to predict ice cream sales based on temperature.\n",
    "\n"
   ]
  },
  {
   "cell_type": "code",
   "execution_count": 79,
   "id": "78849347",
   "metadata": {},
   "outputs": [],
   "source": [
    "import torch\n",
    "import torch.nn as nn\n",
    "\n"
   ]
  },
  {
   "cell_type": "code",
   "execution_count": 80,
   "id": "cda07412",
   "metadata": {},
   "outputs": [],
   "source": [
    "temperature = torch.tensor([50.0])  # 25 degrees Celsius\n"
   ]
  },
  {
   "cell_type": "code",
   "execution_count": 81,
   "id": "03fc1f3c",
   "metadata": {},
   "outputs": [],
   "source": [
    "model = nn.Linear(in_features=1, out_features=1)  # 1 input → 1 output\n"
   ]
  },
  {
   "cell_type": "code",
   "execution_count": 82,
   "metadata": {},
   "outputs": [
    {
     "name": "stdout",
     "output_type": "stream",
     "text": [
      "Predicted Ice Cream Sales: -12.723722457885742\n"
     ]
    }
   ],
   "source": [
    "sales_prediction = model(temperature)\n",
    "print(\"Predicted Ice Cream Sales:\", sales_prediction.item())\n"
   ]
  },
  {
   "cell_type": "code",
   "execution_count": 83,
   "id": "d942b6d4",
   "metadata": {},
   "outputs": [
    {
     "name": "stdout",
     "output_type": "stream",
     "text": [
      "Weight: -0.24918043613433838\n",
      "Bias: -0.2647005319595337\n"
     ]
    }
   ],
   "source": [
    "print(\"Weight:\", model.weight.item())\n",
    "print(\"Bias:\", model.bias.item())\n"
   ]
  },
  {
   "cell_type": "markdown",
   "id": "3465dd17",
   "metadata": {},
   "source": [
    "## Predicting Ice Cream Sales Using Linear Model in PyTorch\n"
   ]
  },
  {
   "cell_type": "code",
   "execution_count": 84,
   "id": "f46421df",
   "metadata": {},
   "outputs": [
    {
     "name": "stdout",
     "output_type": "stream",
     "text": [
      "Predicted Ice Cream Sell is 14.755023002624512\n",
      "Weight: 0.5887445211410522 \n",
      "Bias: 0.03641068935394287 \n"
     ]
    }
   ],
   "source": [
    "# Import PyTorch core library and the neural network module\n",
    "import torch \n",
    "import torch.nn as nn\n",
    "\n",
    "# Step 1: Define input data (e.g., temperature in Celsius)\n",
    "temperature = torch.tensor([25.0])  # This is our input feature\n",
    "\n",
    "# Step 2: Create a simple linear model with 1 input and 1 output (y = wx + b)\n",
    "model = nn.Linear(in_features=1, out_features=1)\n",
    "\n",
    "# Step 3: Use the model to predict ice cream sales based on temperature\n",
    "sale_price = model(temperature)  # Forward propagation: input is passed through the model\n",
    "\n",
    "# Step 4: Print the predicted value\n",
    "print(f\"Predicted Ice Cream Sell is {sale_price.item()}\")  # .item() gets the Python float from the tensor\n",
    "\n",
    "# Step 5: Print the current weight (w) and bias (b) used by the model\n",
    "print(f\"Weight: {model.weight.item()} \")  # Weight (w) of the model\n",
    "print(f\"Bias: {model.bias.item()} \")      # Bias (b) of the model\n"
   ]
  },
  {
   "cell_type": "markdown",
   "id": "e355e33e",
   "metadata": {},
   "source": [
    "### 🧠 Exersise: Predict Exam Score Based on Hours Studied\n",
    "You're building a simple model that predicts a student's exam score based on how many hours they studied. Use PyTorch's nn.Linear layer to simulate this relationship."
   ]
  },
  {
   "cell_type": "code",
   "execution_count": 85,
   "id": "d584904a",
   "metadata": {},
   "outputs": [
    {
     "name": "stdout",
     "output_type": "stream",
     "text": [
      "Predicted Exam Score is 2.5990352630615234\n",
      "Weight: 0.5621987581253052\n",
      "Bias: -0.2119584083557129\n"
     ]
    }
   ],
   "source": [
    "#importing Essential Libraries\n",
    "import torch \n",
    "import torch.nn as nn\n",
    "\n",
    "#Inilizing input\n",
    "hours_of_studied = torch.tensor([5.0])\n",
    "\n",
    "#Building Simple Model\n",
    "model = nn.Linear(in_features=1, out_features=1)\n",
    "\n",
    "#Passing input data to our model\n",
    "Predicted_ExamScore = model(hours_of_studied)\n",
    "print(f\"Predicted Exam Score is {Predicted_ExamScore.item()}\")\n",
    "\n",
    "#printing the random generated weight and bias by our model\n",
    "print(f\"Weight: {model.weight.item()}\")\n",
    "print(f\"Bias: {model.bias.item()}\")\n"
   ]
  },
  {
   "cell_type": "markdown",
   "id": "c57154ea",
   "metadata": {},
   "source": [
    "### 🏆 Rating: 8.5 / 10 for The Exersise\n",
    "Great logic and structure! ✅\n",
    "\n",
    "Just need to fix the import alias and correct the bias print line. After that, it'll be a 10/10! 💯\n",
    "\n",
    "Would you like another challenge now?"
   ]
  },
  {
   "cell_type": "code",
   "execution_count": null,
   "id": "f88d7b1c",
   "metadata": {},
   "outputs": [],
   "source": []
  },
  {
   "cell_type": "code",
   "execution_count": null,
   "id": "79435cb7",
   "metadata": {},
   "outputs": [],
   "source": []
  }
 ],
 "metadata": {
  "kernelspec": {
   "display_name": "Python (ml)",
   "language": "python",
   "name": "ml"
  },
  "language_info": {
   "codemirror_mode": {
    "name": "ipython",
    "version": 3
   },
   "file_extension": ".py",
   "mimetype": "text/x-python",
   "name": "python",
   "nbconvert_exporter": "python",
   "pygments_lexer": "ipython3",
   "version": "3.13.1"
  }
 },
 "nbformat": 4,
 "nbformat_minor": 5
}
