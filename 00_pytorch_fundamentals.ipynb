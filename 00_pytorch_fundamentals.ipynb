{
  "cells": [
    {
      "cell_type": "markdown",
      "metadata": {
        "colab_type": "text",
        "id": "view-in-github"
      },
      "source": [
        "<a href=\"https://colab.research.google.com/github/UMAIR000001/PyTorch-Week4/blob/main/00_pytorch_fundamentals.ipynb\" target=\"_parent\"><img src=\"https://colab.research.google.com/assets/colab-badge.svg\" alt=\"Open In Colab\"/></a>"
      ]
    },
    {
      "cell_type": "code",
      "execution_count": 34,
      "metadata": {
        "colab": {
          "base_uri": "https://localhost:8080/"
        },
        "id": "3yN6d6KGIfgl",
        "outputId": "ef53113e-e5ae-4498-ec45-c938d3da28cc"
      },
      "outputs": [
        {
          "name": "stderr",
          "output_type": "stream",
          "text": [
            "'apt-get' is not recognized as an internal or external command,\n",
            "operable program or batch file.\n"
          ]
        },
        {
          "name": "stderr",
          "output_type": "stream",
          "text": [
            "fatal: destination path 'PyTorch-Week4' already exists and is not an empty directory.\n"
          ]
        }
      ],
      "source": [
        "# 1. Install Git (if needed)\n",
        "!apt-get install git\n",
        "\n",
        "# 2. Set your Git username & email (only once)\n",
        "!git config --global user.email \"umairhafeez951@gmail.com\"\n",
        "!git config --global user.name \"UMAIR000001\"\n",
        "\n",
        "# 3. Clone your GitHub repo to Colab\n",
        "!git clone https://github.com/UMAIR000001/PyTorch-Week4.git\n"
      ]
    },
    {
      "cell_type": "code",
      "execution_count": 35,
      "metadata": {
        "colab": {
          "base_uri": "https://localhost:8080/"
        },
        "id": "PmUe4654eJEd",
        "outputId": "b0342b1c-21c1-4783-bab8-edaf703f5dd7"
      },
      "outputs": [
        {
          "name": "stdout",
          "output_type": "stream",
          "text": [
            "first day of learning Pytorch\n"
          ]
        }
      ],
      "source": [
        "print(\"first day of learning Pytorch\")"
      ]
    },
    {
      "cell_type": "code",
      "execution_count": 36,
      "metadata": {
        "colab": {
          "base_uri": "https://localhost:8080/"
        },
        "id": "-ToV8qareVFW",
        "outputId": "b6601abc-6537-4a13-e4e9-9c77b6c122ce"
      },
      "outputs": [
        {
          "name": "stdout",
          "output_type": "stream",
          "text": [
            "2.7.1+cpu\n"
          ]
        }
      ],
      "source": [
        "import torch\n",
        "import pandas as pd\n",
        "import numpy as np\n",
        "import matplotlib.pyplot as plt\n",
        "print(torch.__version__)"
      ]
    },
    {
      "cell_type": "markdown",
      "metadata": {
        "id": "3AcKlzDUg5Ch"
      },
      "source": [
        "##  Introduction To Tensors\n",
        "### Creating Tensors"
      ]
    },
    {
      "cell_type": "code",
      "execution_count": 37,
      "metadata": {
        "colab": {
          "base_uri": "https://localhost:8080/"
        },
        "id": "t1T2eI1PjllB",
        "outputId": "c3c1a1df-f6e3-4043-cdc1-e745dd0700d2"
      },
      "outputs": [
        {
          "data": {
            "text/plain": [
              "tensor(5366)"
            ]
          },
          "execution_count": 37,
          "metadata": {},
          "output_type": "execute_result"
        }
      ],
      "source": [
        "#scalar\n",
        "scalar =torch.tensor(5366)\n",
        "scalar"
      ]
    },
    {
      "cell_type": "code",
      "execution_count": 38,
      "metadata": {
        "colab": {
          "base_uri": "https://localhost:8080/"
        },
        "id": "UtD-7NAkjlaE",
        "outputId": "f0a1df5b-007b-461a-ed42-416d72a95ad7"
      },
      "outputs": [
        {
          "data": {
            "text/plain": [
              "0"
            ]
          },
          "execution_count": 38,
          "metadata": {},
          "output_type": "execute_result"
        }
      ],
      "source": [
        "# Check the number of dimensions of vector\n",
        "scalar.ndim"
      ]
    },
    {
      "cell_type": "code",
      "execution_count": 39,
      "metadata": {
        "colab": {
          "base_uri": "https://localhost:8080/"
        },
        "id": "_bG5XgE4jlKs",
        "outputId": "aacc2604-75b0-476d-e8ee-a2f78fac5252"
      },
      "outputs": [
        {
          "data": {
            "text/plain": [
              "5366"
            ]
          },
          "execution_count": 39,
          "metadata": {},
          "output_type": "execute_result"
        }
      ],
      "source": [
        "# Get tensor back as python int\n",
        "scalar.item()"
      ]
    },
    {
      "cell_type": "code",
      "execution_count": 40,
      "metadata": {
        "colab": {
          "base_uri": "https://localhost:8080/"
        },
        "id": "bLO-NXxTk8ir",
        "outputId": "b173a863-f461-411a-dcf7-ddf67ad5e2e8"
      },
      "outputs": [
        {
          "data": {
            "text/plain": [
              "tensor([1, 2, 3, 4, 5])"
            ]
          },
          "execution_count": 40,
          "metadata": {},
          "output_type": "execute_result"
        }
      ],
      "source": [
        "#Vector\n",
        "vector=torch.tensor([1,2,3,4,5])\n",
        "vector"
      ]
    },
    {
      "cell_type": "code",
      "execution_count": 41,
      "metadata": {
        "colab": {
          "base_uri": "https://localhost:8080/"
        },
        "id": "rmNMLmlUk8FF",
        "outputId": "10074ced-7db4-408f-d5e6-cae2906eed1e"
      },
      "outputs": [
        {
          "data": {
            "text/plain": [
              "1"
            ]
          },
          "execution_count": 41,
          "metadata": {},
          "output_type": "execute_result"
        }
      ],
      "source": [
        "# Check the number of dimensions of vector\n",
        "vector.ndim"
      ]
    },
    {
      "cell_type": "code",
      "execution_count": 42,
      "metadata": {
        "colab": {
          "base_uri": "https://localhost:8080/"
        },
        "id": "Fsr3tkMAk8Bq",
        "outputId": "ffbab093-4b6c-48e3-cbe5-78f56302989e"
      },
      "outputs": [
        {
          "data": {
            "text/plain": [
              "torch.Size([5])"
            ]
          },
          "execution_count": 42,
          "metadata": {},
          "output_type": "execute_result"
        }
      ],
      "source": [
        "# Another important concept for tensors is their shape attribute. The shape tells you how the elements inside them are arranged.\n",
        "vector.shape"
      ]
    },
    {
      "cell_type": "code",
      "execution_count": 43,
      "metadata": {
        "colab": {
          "base_uri": "https://localhost:8080/"
        },
        "id": "feLbdZbEk73n",
        "outputId": "f4fb9a2d-67e3-4cf4-de13-35e9f5d2b3f8"
      },
      "outputs": [
        {
          "data": {
            "text/plain": [
              "tensor([[1, 2],\n",
              "        [3, 4]])"
            ]
          },
          "execution_count": 43,
          "metadata": {},
          "output_type": "execute_result"
        }
      ],
      "source": [
        "#MATRIX\n",
        "MATRIX=torch.tensor([[1,2],[3,4]])\n",
        "MATRIX"
      ]
    },
    {
      "cell_type": "code",
      "execution_count": 44,
      "metadata": {
        "colab": {
          "base_uri": "https://localhost:8080/"
        },
        "id": "xoSyZlfsmJH9",
        "outputId": "cee86246-d672-4ed4-c4f5-c3fdcd3d2206"
      },
      "outputs": [
        {
          "data": {
            "text/plain": [
              "2"
            ]
          },
          "execution_count": 44,
          "metadata": {},
          "output_type": "execute_result"
        }
      ],
      "source": [
        "MATRIX.ndim"
      ]
    },
    {
      "cell_type": "code",
      "execution_count": 45,
      "metadata": {
        "colab": {
          "base_uri": "https://localhost:8080/"
        },
        "id": "B6QYOv52mJEd",
        "outputId": "7111ae1b-4e29-43e9-e1bb-d74049319b34"
      },
      "outputs": [
        {
          "data": {
            "text/plain": [
              "tensor([1, 2])"
            ]
          },
          "execution_count": 45,
          "metadata": {},
          "output_type": "execute_result"
        }
      ],
      "source": [
        "MATRIX[0]"
      ]
    },
    {
      "cell_type": "code",
      "execution_count": 46,
      "metadata": {
        "colab": {
          "base_uri": "https://localhost:8080/"
        },
        "id": "q6ajlyrvmI-d",
        "outputId": "8233e5b5-52dc-4c46-e979-43373c420b22"
      },
      "outputs": [
        {
          "data": {
            "text/plain": [
              "torch.Size([2, 2])"
            ]
          },
          "execution_count": 46,
          "metadata": {},
          "output_type": "execute_result"
        }
      ],
      "source": [
        "MATRIX.shape"
      ]
    },
    {
      "cell_type": "code",
      "execution_count": 47,
      "metadata": {
        "colab": {
          "base_uri": "https://localhost:8080/"
        },
        "id": "6YZP2hlHmI1-",
        "outputId": "842ecb1e-0aaf-4ef4-dab4-138bdbba777a"
      },
      "outputs": [
        {
          "data": {
            "text/plain": [
              "tensor([[[1, 1, 1],\n",
              "         [2, 2, 2]]])"
            ]
          },
          "execution_count": 47,
          "metadata": {},
          "output_type": "execute_result"
        }
      ],
      "source": [
        "#TENSOR\n",
        "TENSOR=torch.tensor([[[1,1,1],[2,2,2]]])\n",
        "TENSOR"
      ]
    },
    {
      "cell_type": "code",
      "execution_count": 48,
      "metadata": {
        "colab": {
          "base_uri": "https://localhost:8080/"
        },
        "id": "NBQUC74vmhfu",
        "outputId": "4a79ec5f-037a-4806-b4fd-7fce31d7b28c"
      },
      "outputs": [
        {
          "data": {
            "text/plain": [
              "3"
            ]
          },
          "execution_count": 48,
          "metadata": {},
          "output_type": "execute_result"
        }
      ],
      "source": [
        "TENSOR.ndim"
      ]
    },
    {
      "cell_type": "code",
      "execution_count": 49,
      "metadata": {
        "colab": {
          "base_uri": "https://localhost:8080/"
        },
        "id": "9vtC4meQ0QKD",
        "outputId": "503046b3-1b74-4959-ae44-375c80d8758e"
      },
      "outputs": [
        {
          "data": {
            "text/plain": [
              "torch.Size([1, 2, 3])"
            ]
          },
          "execution_count": 49,
          "metadata": {},
          "output_type": "execute_result"
        }
      ],
      "source": [
        "TENSOR.shape"
      ]
    },
    {
      "cell_type": "markdown",
      "metadata": {
        "id": "pAmdxCxV1Bl2"
      },
      "source": [
        "# Randon tensors\n",
        "A random tensor is a multi-dimensional array filled with randomly generated values, created using PyTorch functions like torch.rand(), torch.randn(), or torch.randint().\n",
        "\n",
        "->These tensors are often used to:\n",
        "\n",
        "->Simulate input data\n",
        "\n",
        "->Initialize weights of neural networks\n",
        "\n",
        "->Test models before using real data\n",
        "\n",
        "##Different Random Tensor Functions\n",
        "\n",
        "1:\n",
        "Function    |\tRange of Values             |Data Type\n",
        "torch.rand()|\tUniform random values [0, 1)|float32 \n",
        "\n",
        "\n",
        "##❓Why are random tensors so valuable in deep learning?\n",
        "In deep learning, we start with random numbers (random tensors) to initialize model parameters (like weights).\n",
        "Then the model:\n",
        "\n",
        "🔁 Looks at data → compares predictions to real values\n",
        "\n",
        "🔁 Updates the random numbers (weights) using gradients\n",
        "\n",
        "🔁 Repeats this process until the model learns to make accurate predictions. \n",
        "\n",
        "\n",
        "## 💡 Why Use Random Tensors Instead of Zero?\n",
        "If all weights were zero, the model would learn nothing unique (all neurons behave the same).\n",
        "Randomness breaks symmetry, allowing each neuron to learn something different."
      ]
    },
    {
      "cell_type": "code",
      "execution_count": 50,
      "metadata": {
        "id": "lALPGgxR1IyB"
      },
      "outputs": [
        {
          "data": {
            "text/plain": [
              "(tensor([[0.3043, 0.5250, 0.4961],\n",
              "         [0.9479, 0.5363, 0.5138],\n",
              "         [0.7729, 0.2863, 0.3759],\n",
              "         [0.7773, 0.9608, 0.5168],\n",
              "         [0.1351, 0.3059, 0.5545]]),\n",
              " torch.float32)"
            ]
          },
          "execution_count": 50,
          "metadata": {},
          "output_type": "execute_result"
        }
      ],
      "source": [
        " # Create a random tensor of size (5,2)\n",
        "#random_tensor=torch.rand(size=(5,3)) == random_tensor=torch.rand(5,3)\n",
        "random_tensor=torch.rand(size=(5,3))\n",
        "random_tensor,random_tensor.dtype\n"
      ]
    },
    {
      "cell_type": "markdown",
      "metadata": {},
      "source": [
        "The flexibility of `torch.rand()` is that we can adjust the `size` to be whatever we want.\n",
        "\n",
        "For example, say you wanted a random tensor in the common image shape of `[224, 224, 3]` (`[height, width, color_channels`]).\n",
        "##🧠 Key Point to Remember: \n",
        "In image processing:\n",
        "\n",
        "A color image is usually a 3D tensor → height × width × channels\n",
        "\n",
        "A batch of images becomes a 4D tensor → batch_size × height × width × channels"
      ]
    },
    {
      "cell_type": "code",
      "execution_count": 51,
      "metadata": {},
      "outputs": [
        {
          "data": {
            "text/plain": [
              "(torch.Size([224, 224, 3]), 3)"
            ]
          },
          "execution_count": 51,
          "metadata": {},
          "output_type": "execute_result"
        }
      ],
      "source": [
        "# Create a random tensor of size (224, 224, 3)\n",
        "random_image_size_tensor = torch.rand(224, 224, 3)\n",
        "random_image_size_tensor.shape, random_image_size_tensor.ndim"
      ]
    },
    {
      "cell_type": "code",
      "execution_count": 52,
      "metadata": {},
      "outputs": [
        {
          "data": {
            "text/plain": [
              "(tensor([[0.1260, 0.0607, 0.2714, 0.9058, 0.6279],\n",
              "         [0.9163, 0.9493, 0.5272, 0.3357, 0.5496]]),\n",
              " torch.float32,\n",
              " torch.Size([2, 5]),\n",
              " 2)"
            ]
          },
          "execution_count": 52,
          "metadata": {},
          "output_type": "execute_result"
        }
      ],
      "source": [
        "# Summary of all task of  random tensor  \n",
        "demo_tensor=torch.rand(size=(2,5))\n",
        "demo_tensor,demo_tensor.dtype, demo_tensor.shape,demo_tensor.ndim"
      ]
    },
    {
      "cell_type": "markdown",
      "metadata": {},
      "source": [
        "# Zeros and Ones"
      ]
    },
    {
      "cell_type": "code",
      "execution_count": 53,
      "metadata": {},
      "outputs": [
        {
          "data": {
            "text/plain": [
              "tensor([[0., 0., 0., 0., 0.],\n",
              "        [0., 0., 0., 0., 0.]])"
            ]
          },
          "execution_count": 53,
          "metadata": {},
          "output_type": "execute_result"
        }
      ],
      "source": [
        "#Creating a tensor all of zeros\n",
        "# probably used in most cases\n",
        "zeros_tensor=torch.zeros(2,5)\n",
        "#Multiplication of Zeros tensor to a random tensor\n",
        "zeros_tensor*demo_tensor \n",
        "#zeros_tensor,zeros_tensor.dtype,zeros_tensor.shape,zeros_tensor.ndim"
      ]
    },
    {
      "cell_type": "code",
      "execution_count": 54,
      "metadata": {},
      "outputs": [
        {
          "data": {
            "text/plain": [
              "tensor([[0.1260, 0.0607, 0.2714, 0.9058, 0.6279],\n",
              "        [0.9163, 0.9493, 0.5272, 0.3357, 0.5496]])"
            ]
          },
          "execution_count": 54,
          "metadata": {},
          "output_type": "execute_result"
        }
      ],
      "source": [
        "#Creating a tensor all of ones\n",
        "ones_tensor=torch.ones(2,5)\n",
        "#Multiplication of Ones tensor to a random tensor\n",
        "ones_tensor*demo_tensor \n",
        "#ones_tensor,zeros_tensor.dtype,zeros_tensor.shape,zeros_tensor.ndim"
      ]
    },
    {
      "cell_type": "markdown",
      "metadata": {},
      "source": [
        "#16. Creating a range of tensors and tensors-like"
      ]
    },
    {
      "cell_type": "code",
      "execution_count": 55,
      "metadata": {},
      "outputs": [
        {
          "data": {
            "text/plain": [
              "tensor([ 1,  2,  3,  4,  5,  6,  7,  8,  9, 10])"
            ]
          },
          "execution_count": 55,
          "metadata": {},
          "output_type": "execute_result"
        }
      ],
      "source": [
        "# Use torch.arange()\n",
        "one_to_ten=torch.arange(start=1,end=11,step=1)\n",
        "one_to_ten\n"
      ]
    },
    {
      "cell_type": "code",
      "execution_count": 56,
      "metadata": {},
      "outputs": [
        {
          "data": {
            "text/plain": [
              "tensor([ 0,  2,  4,  6,  8, 10, 12, 14, 16, 18, 20])"
            ]
          },
          "execution_count": 56,
          "metadata": {},
          "output_type": "execute_result"
        }
      ],
      "source": [
        "zero_to_twenties=torch.arange(start=0,end=21,step=2)\n",
        "zero_to_twenties"
      ]
    },
    {
      "cell_type": "code",
      "execution_count": 57,
      "metadata": {},
      "outputs": [
        {
          "data": {
            "text/plain": [
              "tensor([1, 1, 1, 1, 1, 1, 1, 1, 1, 1])"
            ]
          },
          "execution_count": 57,
          "metadata": {},
          "output_type": "execute_result"
        }
      ],
      "source": [
        "#Creating tensors like for ones\n",
        "one_to_ten_like=torch.ones_like(input=one_to_ten)\n",
        "one_to_ten_like\n"
      ]
    },
    {
      "cell_type": "code",
      "execution_count": 58,
      "metadata": {},
      "outputs": [
        {
          "data": {
            "text/plain": [
              "tensor([0, 0, 0, 0, 0, 0, 0, 0, 0, 0])"
            ]
          },
          "execution_count": 58,
          "metadata": {},
          "output_type": "execute_result"
        }
      ],
      "source": [
        "#Creating tensors like for zeros\n",
        "one_to_ten_like=torch.zeros_like(input=one_to_ten)\n",
        "one_to_ten_like\n"
      ]
    },
    {
      "cell_type": "code",
      "execution_count": 59,
      "metadata": {},
      "outputs": [
        {
          "data": {
            "text/plain": [
              "tensor([0.1384, 0.8547, 0.9733, 0.9501, 0.0862, 0.7271, 0.4028, 0.4749, 0.2270,\n",
              "        0.0702])"
            ]
          },
          "execution_count": 59,
          "metadata": {},
          "output_type": "execute_result"
        }
      ],
      "source": [
        "# Creating tensors like for random tensors here typecasting is required \n",
        "demo=torch.rand_like(input=one_to_ten,dtype=torch.float32)\n",
        "demo"
      ]
    },
    {
      "cell_type": "markdown",
      "metadata": {},
      "source": [
        "# 17 Dealing With tensor datatypes"
      ]
    },
    {
      "cell_type": "code",
      "execution_count": 60,
      "metadata": {},
      "outputs": [
        {
          "data": {
            "text/plain": [
              "(torch.float32,\n",
              " device(type='cpu'),\n",
              " False,\n",
              " torch.Size([3]),\n",
              " 1,\n",
              " tensor([1., 2., 3.]))"
            ]
          },
          "execution_count": 60,
          "metadata": {},
          "output_type": "execute_result"
        }
      ],
      "source": [
        "# Default Datatype for tensors is float32 for float values \n",
        "\n",
        "float_32_tensor=torch.tensor((1.0,2.0,3.0),\n",
        "                              dtype=None,\n",
        "                              device=None,\n",
        "                              requires_grad=False)\n",
        "float_32_tensor.dtype,float_32_tensor.device,float_32_tensor.requires_grad,float_32_tensor.shape,float_32_tensor.ndim,float_32_tensor"
      ]
    },
    {
      "cell_type": "code",
      "execution_count": 61,
      "metadata": {},
      "outputs": [
        {
          "data": {
            "text/plain": [
              "torch.float32"
            ]
          },
          "execution_count": 61,
          "metadata": {},
          "output_type": "execute_result"
        }
      ],
      "source": [
        "float_32_tensor=torch.tensor([1,2],\n",
        "                             dtype=torch.float32,\n",
        "                             device=None,\n",
        "                             requires_grad=False)\n",
        "float_32_tensor.dtype"
      ]
    }
  ],
  "metadata": {
    "colab": {
      "authorship_tag": "ABX9TyONR9BWyHM9hD57Qc5WGj0y",
      "include_colab_link": true,
      "provenance": []
    },
    "kernelspec": {
      "display_name": "venv-pytorch-dl",
      "language": "python",
      "name": "python3"
    },
    "language_info": {
      "codemirror_mode": {
        "name": "ipython",
        "version": 3
      },
      "file_extension": ".py",
      "mimetype": "text/x-python",
      "name": "python",
      "nbconvert_exporter": "python",
      "pygments_lexer": "ipython3",
      "version": "3.13.1"
    }
  },
  "nbformat": 4,
  "nbformat_minor": 0
}
