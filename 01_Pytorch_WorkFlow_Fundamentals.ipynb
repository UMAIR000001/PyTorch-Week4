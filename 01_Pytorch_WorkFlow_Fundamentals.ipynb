{
  "nbformat": 4,
  "nbformat_minor": 0,
  "metadata": {
    "colab": {
      "provenance": [],
      "authorship_tag": "ABX9TyOfwoX6UUWsQVmsvBXtJWP0",
      "include_colab_link": true
    },
    "kernelspec": {
      "name": "python3",
      "display_name": "Python 3"
    },
    "language_info": {
      "name": "python"
    }
  },
  "cells": [
    {
      "cell_type": "markdown",
      "metadata": {
        "id": "view-in-github",
        "colab_type": "text"
      },
      "source": [
        "<a href=\"https://colab.research.google.com/github/UMAIR000001/PyTorch-Week4/blob/main/01_Pytorch_WorkFlow_Fundamentals.ipynb\" target=\"_parent\"><img src=\"https://colab.research.google.com/assets/colab-badge.svg\" alt=\"Open In Colab\"/></a>"
      ]
    },
    {
      "cell_type": "code",
      "execution_count": 1,
      "metadata": {
        "colab": {
          "base_uri": "https://localhost:8080/",
          "height": 35
        },
        "id": "0ZL2Imx283iV",
        "outputId": "94bd8f2e-55c2-492a-cd58-1c659170be98"
      },
      "outputs": [
        {
          "output_type": "execute_result",
          "data": {
            "text/plain": [
              "'2.6.0+cu124'"
            ],
            "application/vnd.google.colaboratory.intrinsic+json": {
              "type": "string"
            }
          },
          "metadata": {},
          "execution_count": 1
        }
      ],
      "source": [
        "import torch\n",
        "from torch import nn # nn contains all of PyTorch's building blocks for neural networks\n",
        "import matplotlib.pyplot as plt\n",
        "\n",
        "# Check PyTorch version\n",
        "torch.__version__"
      ]
    },
    {
      "cell_type": "markdown",
      "source": [
        " # Linear Regression:\n",
        "##Simple meaning:\n",
        ">A math method to draw a straight line through your data to find a pattern.\n",
        "\n",
        "# Weight:\n",
        "Weight gives a score to each input feature to tell the model how much that feature should contribute to the output.\n",
        "\n",
        "#Bias:\n",
        "Bias is a constant value added to the output of a model.\n",
        "It allows the model to make correct predictions even when all input features are zero.\n",
        "You can think of it as the model’s starting point or baseline guess — like bonus marks or luck."
      ],
      "metadata": {
        "id": "Iw8YKkM6-tgf"
      }
    },
    {
      "cell_type": "code",
      "source": [],
      "metadata": {
        "id": "fr3eB7np-tFs"
      },
      "execution_count": null,
      "outputs": []
    },
    {
      "cell_type": "markdown",
      "source": [
        "#1. Data (preparing and loading):\n",
        ">Machine learning is a game of two parts:\n",
        "\n",
        "1.Turn your data, whatever it is, into numbers (a representation).\n",
        "\n",
        "2.Pick or build a model to learn the representation as best as possible."
      ],
      "metadata": {
        "id": "dXLjoGKX9WPg"
      }
    },
    {
      "cell_type": "code",
      "source": [
        "# Create *known* parameters\n",
        "weight = 0.7\n",
        "bias = 0.3\n",
        "\n",
        "# Create data\n",
        "start = 0\n",
        "end = 1\n",
        "step = 0.02\n",
        "X = torch.arange(start, end, step).unsqueeze(dim=1)\n",
        "y = weight * X + bias\n",
        "\n",
        "print(X[:10])\n",
        "print(\"\\n\",y[:10])"
      ],
      "metadata": {
        "colab": {
          "base_uri": "https://localhost:8080/"
        },
        "id": "MxdCFD-o9MHP",
        "outputId": "c7eba940-9dc2-4de8-8078-434f5c579250"
      },
      "execution_count": 6,
      "outputs": [
        {
          "output_type": "stream",
          "name": "stdout",
          "text": [
            "tensor([[0.0000],\n",
            "        [0.0200],\n",
            "        [0.0400],\n",
            "        [0.0600],\n",
            "        [0.0800],\n",
            "        [0.1000],\n",
            "        [0.1200],\n",
            "        [0.1400],\n",
            "        [0.1600],\n",
            "        [0.1800]])\n",
            "\n",
            " tensor([[0.3000],\n",
            "        [0.3140],\n",
            "        [0.3280],\n",
            "        [0.3420],\n",
            "        [0.3560],\n",
            "        [0.3700],\n",
            "        [0.3840],\n",
            "        [0.3980],\n",
            "        [0.4120],\n",
            "        [0.4260]])\n"
          ]
        }
      ]
    },
    {
      "cell_type": "markdown",
      "source": [
        "#Split data into training and test sets :"
      ],
      "metadata": {
        "id": "aHiN9reZEW9f"
      }
    },
    {
      "cell_type": "code",
      "source": [
        "# Create train/test split\n",
        "train_split = int(0.8 * len(X)) # 80% of data used for training set, 20% for testing\n",
        "# X_train contains input and y_train conatins its label or output\n",
        "X_train, y_train = X[:train_split], y[:train_split]\n",
        "X_test, y_test = X[train_split:], y[train_split:]\n",
        "\n",
        "len(X_train), len(y_train), len(X_test), len(y_test)"
      ],
      "metadata": {
        "colab": {
          "base_uri": "https://localhost:8080/"
        },
        "id": "vMHviZC49MDw",
        "outputId": "fc862083-1a4a-448f-c0e9-ac45dc392bc9"
      },
      "execution_count": 7,
      "outputs": [
        {
          "output_type": "execute_result",
          "data": {
            "text/plain": [
              "(40, 40, 10, 10)"
            ]
          },
          "metadata": {},
          "execution_count": 7
        }
      ]
    },
    {
      "cell_type": "code",
      "source": [
        "# Simple example of concept for spliting data  into teo parts through their index numbers\n",
        "num=[1,2,3,4,5,6,7,8,9,10]\n",
        "train_set=int(0.7*len(num))\n",
        "\n",
        "training_data=num[:train_set]\n",
        "print(training_data)\n",
        "testing_data=num[train_set:]\n",
        "print(testing_data)"
      ],
      "metadata": {
        "colab": {
          "base_uri": "https://localhost:8080/"
        },
        "id": "1soGI9Yp9MAp",
        "outputId": "aa442242-1034-4a5a-8a78-b9501bc6a246"
      },
      "execution_count": 17,
      "outputs": [
        {
          "output_type": "stream",
          "name": "stdout",
          "text": [
            "[1, 2, 3, 4, 5, 6, 7]\n",
            "[8, 9, 10]\n"
          ]
        }
      ]
    },
    {
      "cell_type": "markdown",
      "source": [
        "# Graph of data"
      ],
      "metadata": {
        "id": "Wy6BnB8XPBvw"
      }
    },
    {
      "cell_type": "code",
      "source": [
        "def plot_predictions(train_data=X_train,\n",
        "                     train_labels=y_train,\n",
        "                     test_data=X_test,\n",
        "                     test_labels=y_test,\n",
        "                     predictions=None):\n",
        "  \"\"\"\n",
        "  Plots training data, test data and compares predictions.\n",
        "  \"\"\"\n",
        "  plt.figure(figsize=(10, 7))\n",
        "\n",
        "  # Plot training data in blue\n",
        "  plt.scatter(train_data, train_labels, c=\"b\", s=7, label=\"Training data\")\n",
        "\n",
        "  # Plot test data in green\n",
        "  plt.scatter(test_data, test_labels, c=\"g\", s=4, label=\"Testing data\")\n",
        "\n",
        "  if predictions is not None:\n",
        "    # Plot the predictions in red (predictions were made on the test data)\n",
        "    plt.scatter(test_data, predictions, c=\"r\", s=4, label=\"Predictions\")\n",
        "\n",
        "  # Show the legend\n",
        "  plt.legend(prop={\"size\": 15});"
      ],
      "metadata": {
        "id": "-zSr6JAA9L9O"
      },
      "execution_count": 36,
      "outputs": []
    },
    {
      "cell_type": "code",
      "source": [
        "plot_predictions();"
      ],
      "metadata": {
        "colab": {
          "base_uri": "https://localhost:8080/",
          "height": 599
        },
        "id": "XucpJ-GoQJHT",
        "outputId": "846ca7a3-0050-4872-9c47-ceb08ff40843"
      },
      "execution_count": 37,
      "outputs": [
        {
          "output_type": "display_data",
          "data": {
            "text/plain": [
              "<Figure size 1000x700 with 1 Axes>"
            ],
            "image/png": "[encoded data removed]"
          },
          "metadata": {}
        }
      ]
    },
    {
      "cell_type": "markdown",
      "source": [
        "# 2 Build Model :"
      ],
      "metadata": {
        "id": "MI24-v4WRguK"
      }
    },
    {
      "cell_type": "code",
      "source": [],
      "metadata": {
        "id": "CiIxSymIQImP"
      },
      "execution_count": null,
      "outputs": []
    }
  ]
}