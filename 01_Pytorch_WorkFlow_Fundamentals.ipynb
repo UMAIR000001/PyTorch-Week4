{
  "nbformat": 4,
  "nbformat_minor": 0,
  "metadata": {
    "colab": {
      "provenance": [],
      "authorship_tag": "ABX9TyPH//H02KjPZPD8juXSBv6I",
      "include_colab_link": true
    },
    "kernelspec": {
      "name": "python3",
      "display_name": "Python 3"
    },
    "language_info": {
      "name": "python"
    }
  },
  "cells": [
    {
      "cell_type": "markdown",
      "metadata": {
        "id": "view-in-github",
        "colab_type": "text"
      },
      "source": [
        "<a href=\"https://colab.research.google.com/github/UMAIR000001/PyTorch-Week4/blob/main/01_Pytorch_WorkFlow_Fundamentals.ipynb\" target=\"_parent\"><img src=\"https://colab.research.google.com/assets/colab-badge.svg\" alt=\"Open In Colab\"/></a>"
      ]
    },
    {
      "cell_type": "code",
      "execution_count": 1,
      "metadata": {
        "colab": {
          "base_uri": "https://localhost:8080/",
          "height": 35
        },
        "id": "0ZL2Imx283iV",
        "outputId": "94bd8f2e-55c2-492a-cd58-1c659170be98"
      },
      "outputs": [
        {
          "output_type": "execute_result",
          "data": {
            "text/plain": [
              "'2.6.0+cu124'"
            ],
            "application/vnd.google.colaboratory.intrinsic+json": {
              "type": "string"
            }
          },
          "metadata": {},
          "execution_count": 1
        }
      ],
      "source": [
        "import torch\n",
        "from torch import nn # nn contains all of PyTorch's building blocks for neural networks\n",
        "import matplotlib.pyplot as plt\n",
        "\n",
        "# Check PyTorch version\n",
        "torch.__version__"
      ]
    },
    {
      "cell_type": "markdown",
      "source": [
        " # Linear Regression:\n",
        "##Simple meaning:\n",
        ">A math method to draw a straight line through your data to find a pattern.\n",
        "\n",
        "# Weight:\n",
        "Weight gives a score to each input feature to tell the model how much that feature should contribute to the output.\n",
        "\n",
        "#Bias:\n",
        "Bias is a constant value added to the output of a model.\n",
        "It allows the model to make correct predictions even when all input features are zero.\n",
        "You can think of it as the model’s starting point or baseline guess — like bonus marks or luck."
      ],
      "metadata": {
        "id": "Iw8YKkM6-tgf"
      }
    },
    {
      "cell_type": "code",
      "source": [],
      "metadata": {
        "id": "fr3eB7np-tFs"
      },
      "execution_count": null,
      "outputs": []
    },
    {
      "cell_type": "markdown",
      "source": [
        "#1. Data (preparing and loading):\n",
        ">Machine learning is a game of two parts:\n",
        "\n",
        "1.Turn your data, whatever it is, into numbers (a representation).\n",
        "\n",
        "2.Pick or build a model to learn the representation as best as possible."
      ],
      "metadata": {
        "id": "dXLjoGKX9WPg"
      }
    },
    {
      "cell_type": "code",
      "source": [
        "# Create *known* parameters\n",
        "weight = 0.7\n",
        "bias = 0.3\n",
        "\n",
        "# Create data\n",
        "start = 0\n",
        "end = 1\n",
        "step = 0.02\n",
        "X = torch.arange(start, end, step).unsqueeze(dim=1)\n",
        "y = weight * X + bias\n",
        "\n",
        "print(X[:10])\n",
        "print(\"\\n\",y[:10])"
      ],
      "metadata": {
        "colab": {
          "base_uri": "https://localhost:8080/"
        },
        "id": "MxdCFD-o9MHP",
        "outputId": "c7eba940-9dc2-4de8-8078-434f5c579250"
      },
      "execution_count": 6,
      "outputs": [
        {
          "output_type": "stream",
          "name": "stdout",
          "text": [
            "tensor([[0.0000],\n",
            "        [0.0200],\n",
            "        [0.0400],\n",
            "        [0.0600],\n",
            "        [0.0800],\n",
            "        [0.1000],\n",
            "        [0.1200],\n",
            "        [0.1400],\n",
            "        [0.1600],\n",
            "        [0.1800]])\n",
            "\n",
            " tensor([[0.3000],\n",
            "        [0.3140],\n",
            "        [0.3280],\n",
            "        [0.3420],\n",
            "        [0.3560],\n",
            "        [0.3700],\n",
            "        [0.3840],\n",
            "        [0.3980],\n",
            "        [0.4120],\n",
            "        [0.4260]])\n"
          ]
        }
      ]
    },
    {
      "cell_type": "markdown",
      "source": [
        "#Split data into training and test sets :"
      ],
      "metadata": {
        "id": "aHiN9reZEW9f"
      }
    },
    {
      "cell_type": "code",
      "source": [
        "# Create train/test split\n",
        "train_split = int(0.8 * len(X)) # 80% of data used for training set, 20% for testing\n",
        "# X_train contains input and y_train conatins its label or output\n",
        "X_train, y_train = X[:train_split], y[:train_split]\n",
        "X_test, y_test = X[train_split:], y[train_split:]\n",
        "\n",
        "len(X_train), len(y_train), len(X_test), len(y_test)"
      ],
      "metadata": {
        "colab": {
          "base_uri": "https://localhost:8080/"
        },
        "id": "vMHviZC49MDw",
        "outputId": "fc862083-1a4a-448f-c0e9-ac45dc392bc9"
      },
      "execution_count": 7,
      "outputs": [
        {
          "output_type": "execute_result",
          "data": {
            "text/plain": [
              "(40, 40, 10, 10)"
            ]
          },
          "metadata": {},
          "execution_count": 7
        }
      ]
    },
    {
      "cell_type": "code",
      "source": [
        "# Simple example of concept for spliting data  into teo parts through their index numbers\n",
        "num=[1,2,3,4,5,6,7,8,9,10]\n",
        "train_set=int(0.7*len(num))\n",
        "\n",
        "training_data=num[:train_set]\n",
        "print(training_data)\n",
        "testing_data=num[train_set:]\n",
        "print(testing_data)"
      ],
      "metadata": {
        "colab": {
          "base_uri": "https://localhost:8080/"
        },
        "id": "1soGI9Yp9MAp",
        "outputId": "aa442242-1034-4a5a-8a78-b9501bc6a246"
      },
      "execution_count": 17,
      "outputs": [
        {
          "output_type": "stream",
          "name": "stdout",
          "text": [
            "[1, 2, 3, 4, 5, 6, 7]\n",
            "[8, 9, 10]\n"
          ]
        }
      ]
    },
    {
      "cell_type": "markdown",
      "source": [
        "# Graph of data"
      ],
      "metadata": {
        "id": "Wy6BnB8XPBvw"
      }
    },
    {
      "cell_type": "code",
      "source": [
        "def plot_predictions(train_data=X_train,\n",
        "                     train_labels=y_train,\n",
        "                     test_data=X_test,\n",
        "                     test_labels=y_test,\n",
        "                     predictions=None):\n",
        "  \"\"\"\n",
        "  Plots training data, test data and compares predictions.\n",
        "  \"\"\"\n",
        "  plt.figure(figsize=(10, 7))\n",
        "\n",
        "  # Plot training data in blue\n",
        "  plt.scatter(train_data, train_labels, c=\"b\", s=7, label=\"Training data\")\n",
        "\n",
        "  # Plot test data in green\n",
        "  plt.scatter(test_data, test_labels, c=\"g\", s=4, label=\"Testing data\")\n",
        "\n",
        "  if predictions is not None:\n",
        "    # Plot the predictions in red (predictions were made on the test data)\n",
        "    plt.scatter(test_data, predictions, c=\"r\", s=4, label=\"Predictions\")\n",
        "\n",
        "  # Show the legend\n",
        "  plt.legend(prop={\"size\": 15});"
      ],
      "metadata": {
        "id": "-zSr6JAA9L9O"
      },
      "execution_count": 36,
      "outputs": []
    },
    {
      "cell_type": "code",
      "source": [
        "plot_predictions();"
      ],
      "metadata": {
        "colab": {
          "base_uri": "https://localhost:8080/",
          "height": 599
        },
        "id": "XucpJ-GoQJHT",
        "outputId": "846ca7a3-0050-4872-9c47-ceb08ff40843"
      },
      "execution_count": 37,
      "outputs": [
        {
          "output_type": "display_data",
          "data": {
            "text/plain": [
              "<Figure size 1000x700 with 1 Axes>"
            ],
            "image/png": "[encoded data removed]"
          },
          "metadata": {}
        }
      ]
    },
    {
      "cell_type": "markdown",
      "source": [
        "# 📘 Core Concepts Revision – PyTorch Fundamentals data processing stage\n",
        "\n",
        "## 📌 Linear Regression\n",
        "- Linear regression is used to **find a straight-line relationship** between input and output.\n",
        "- The formula: `y = weight * X + bias`\n",
        "- Example: Predicting marks based on hours studied.\n",
        "\n",
        "## 📌 Input (X) and Output/Label (y)\n",
        "- **Input (X)**: What you give to the model (e.g. number of hours studied)\n",
        "- **Label/Output (y)**: The correct result the model should learn to predict (e.g. marks)\n",
        "- You always give the model `X` and compare its guess with `y`.\n",
        "\n",
        "## 📌 Weight (w)\n",
        "- The **importance or strength** of the input feature.\n",
        "- It tells the model **how much to trust** each input.\n",
        "- Example: If `weight = 0.7`, it means the input has a strong positive effect on the output.\n",
        "- You can think of it like: \"How seriously did I study?\"\n",
        "\n",
        "## 📌 Bias (b)\n",
        "- The **starting point** or shift of the output when input is zero.\n",
        "- It helps the model make accurate predictions even if input is 0.\n",
        "- You can think of it like **luck, support, or base marks** you already have.\n",
        "\n",
        "## 📌 Model Parameters\n",
        "- Parameters = values the model tries to learn during training.\n",
        "- In linear regression, `weight` and `bias` are both parameters.\n",
        "- The model changes these values to reduce error and fit the data better.\n",
        "\n",
        "## 📌 Labels\n",
        "- Labels are the **correct answers** the model tries to match.\n",
        "- During training, the model compares its predictions to labels using a loss function.\n",
        "\n",
        "## 📌 Training vs Testing\n",
        "- **Training data**: Used to teach the model (80% of the data)\n",
        "- **Testing data**: Used to evaluate the model's learning (20% of the data)\n",
        "- The model should learn from training and generalize well to testing.\n",
        "\n",
        "## 📌 Gradient Descent (Intro Concept)\n",
        "- A method for helping the model **find the best weight and bias**.\n",
        "- It works by **checking the error** and adjusting the weight and bias **step-by-step** to make the model better.\n",
        "- Think of it like a game of hot & cold: small changes are made to get closer to the correct result.\n",
        "\n",
        "## 🧠 Final Thought\n",
        "- All these concepts work together:\n",
        "  - You give input (`X`)\n",
        "  - The model uses `weight` and `bias` to make a prediction (`y_pred`)\n",
        "  - It compares prediction with the correct answer (`y`)\n",
        "  - Then uses **gradient descent** to update the `weight` and `bias`\n",
        "  - Over time, it learns to make **accurate predictions**.\n"
      ],
      "metadata": {
        "id": "NBwZLiJfTU_q"
      }
    },
    {
      "cell_type": "markdown",
      "source": [
        "# 2 Build Model :"
      ],
      "metadata": {
        "id": "MI24-v4WRguK"
      }
    },
    {
      "cell_type": "code",
      "source": [
        "# Create a Linear Regression model class\n",
        "class LinearRegressionModel(nn.Module): # <- almost everything in PyTorch is a nn.Module (think of this as neural network lego blocks)\n",
        "    def __init__(self):\n",
        "        super().__init__()\n",
        "        self.weights = nn.Parameter(torch.randn(1, # <- start with random weights (this will get adjusted as the model learns)\n",
        "                                                dtype=torch.float), # <- PyTorch loves float32 by default\n",
        "                                   requires_grad=True) # <- can we update this value with gradient descent?)\n",
        "\n",
        "        self.bias = nn.Parameter(torch.randn(1, # <- start with random bias (this will get adjusted as the model learns)\n",
        "                                            dtype=torch.float), # <- PyTorch loves float32 by default\n",
        "                                requires_grad=True) # <- can we update this value with gradient descent?))\n",
        "\n",
        "    # Forward defines the computation in the model\n",
        "    def forward(self, x: torch.Tensor) -> torch.Tensor: # <- \"x\" is the input data (e.g. training/testing features)\n",
        "        return self.weights * x + self.bias # <- this is the linear regression formula (y = m*x + b)"
      ],
      "metadata": {
        "id": "CiIxSymIQImP"
      },
      "execution_count": 41,
      "outputs": []
    },
    {
      "cell_type": "code",
      "source": [
        "# Set manual seed since nn.Parameter are randomly initialized\n",
        "torch.manual_seed(42)\n",
        "\n",
        "# Create an instance of the model (this is a subclass of nn.Module that contains nn.Parameter(s))\n",
        "model_0 = LinearRegressionModel()\n",
        "\n",
        "# Check the nn.Parameter(s) within the nn.Module subclass we created\n",
        "list(model_0.parameters())"
      ],
      "metadata": {
        "id": "zZuptN2fdQra",
        "outputId": "be4cef1f-89d7-4217-b528-032dc03017b1",
        "colab": {
          "base_uri": "https://localhost:8080/"
        }
      },
      "execution_count": 84,
      "outputs": [
        {
          "output_type": "execute_result",
          "data": {
            "text/plain": [
              "[Parameter containing:\n",
              " tensor([0.3367], requires_grad=True),\n",
              " Parameter containing:\n",
              " tensor([0.1288], requires_grad=True)]"
            ]
          },
          "metadata": {},
          "execution_count": 84
        }
      ]
    },
    {
      "cell_type": "code",
      "source": [
        "\n",
        "# List named parameters\n",
        "model_0.state_dict()"
      ],
      "metadata": {
        "id": "RgLVTj2Qdo8F",
        "outputId": "2fe765a1-4fbb-4a4c-ee3c-67bffebf14c4",
        "colab": {
          "base_uri": "https://localhost:8080/"
        }
      },
      "execution_count": 85,
      "outputs": [
        {
          "output_type": "execute_result",
          "data": {
            "text/plain": [
              "OrderedDict([('weights', tensor([0.3367])), ('bias', tensor([0.1288]))])"
            ]
          },
          "metadata": {},
          "execution_count": 85
        }
      ]
    },
    {
      "cell_type": "code",
      "source": [
        "# Make predictions with model\n",
        "with torch.inference_mode():\n",
        "    y_preds = model_0(X_test)\n",
        "\n",
        "# Note: in older PyTorch code you might also see torch.no_grad()\n",
        "# with torch.no_grad():\n",
        "#   y_preds = model_0(X_test)"
      ],
      "metadata": {
        "id": "_h685LcygQeT"
      },
      "execution_count": 86,
      "outputs": []
    },
    {
      "cell_type": "code",
      "source": [
        "# Check the predictions\n",
        "print(f\"Number of testing samples: {len(X_test)}\")\n",
        "print(f\"Number of predictions made: {len(y_preds)}\")\n",
        "print(f\"Predicted values:\\n{y_preds}\")"
      ],
      "metadata": {
        "id": "GQWrUnxNgQD2",
        "outputId": "3050c228-1807-4a33-a3e4-37ec55f49a88",
        "colab": {
          "base_uri": "https://localhost:8080/"
        }
      },
      "execution_count": 87,
      "outputs": [
        {
          "output_type": "stream",
          "name": "stdout",
          "text": [
            "Number of testing samples: 10\n",
            "Number of predictions made: 10\n",
            "Predicted values:\n",
            "tensor([[0.3982],\n",
            "        [0.4049],\n",
            "        [0.4116],\n",
            "        [0.4184],\n",
            "        [0.4251],\n",
            "        [0.4318],\n",
            "        [0.4386],\n",
            "        [0.4453],\n",
            "        [0.4520],\n",
            "        [0.4588]])\n"
          ]
        }
      ]
    },
    {
      "cell_type": "code",
      "source": [
        "plot_predictions(predictions=y_preds)"
      ],
      "metadata": {
        "id": "9k6K8mUNgQBh",
        "outputId": "bdf10352-4a09-45f2-c19f-caa5f1d0559a",
        "colab": {
          "base_uri": "https://localhost:8080/",
          "height": 599
        }
      },
      "execution_count": 89,
      "outputs": [
        {
          "output_type": "display_data",
          "data": {
            "text/plain": [
              "<Figure size 1000x700 with 1 Axes>"
            ],
            "image/png": "[encoded data removed]"
          },
          "metadata": {}
        }
      ]
    },
    {
      "cell_type": "code",
      "source": [
        "y_test - y_preds"
      ],
      "metadata": {
        "id": "njM7O4ZxgP_H",
        "outputId": "8bcfe016-84dd-4778-8aef-eee4605aab83",
        "colab": {
          "base_uri": "https://localhost:8080/"
        }
      },
      "execution_count": 88,
      "outputs": [
        {
          "output_type": "execute_result",
          "data": {
            "text/plain": [
              "tensor([[0.4618],\n",
              "        [0.4691],\n",
              "        [0.4764],\n",
              "        [0.4836],\n",
              "        [0.4909],\n",
              "        [0.4982],\n",
              "        [0.5054],\n",
              "        [0.5127],\n",
              "        [0.5200],\n",
              "        [0.5272]])"
            ]
          },
          "metadata": {},
          "execution_count": 88
        }
      ]
    },
    {
      "cell_type": "markdown",
      "source": [
        "# 📌 Revision Summary: Building the Model in PyTorch\n",
        "\n",
        "✅ **1. Set Random Seed**  \n",
        "- `torch.manual_seed(42)` ensures weight and bias values are the same every time for reproducibility.\n",
        "\n",
        "✅ **2. Define the Model Class**  \n",
        "- We create a class `LinearRegressionModel(nn.Module)` which is a subclass of `nn.Module` (base class for all models in PyTorch).\n",
        "- Inside `__init__()`, we define:  \n",
        "  - `self.weights = nn.Parameter(torch.randn(1, dtype=torch.float), requires_grad=True)`  \n",
        "  - `self.bias = nn.Parameter(torch.randn(1, dtype=torch.float), requires_grad=True)`  \n",
        "- `nn.Parameter` makes these values learnable.\n",
        "- `requires_grad=True` means PyTorch will update these during training.\n",
        "- In the `forward(self, x)` method, we define how predictions are made:  \n",
        "  `y = weight * x + bias`\n",
        "\n",
        "✅ **3. Create Model Instance**  \n",
        "- `model_0 = LinearRegressionModel()` creates the model object from the class.\n",
        "\n",
        "✅ **4. View Initial Parameters**  \n",
        "- Use `list(model_0.parameters())` or `model_0.state_dict()` to view the initial random values of weight and bias.\n",
        "\n",
        "✅ **5. Make Predictions Before Training**  \n",
        "- Use `with torch.inference_mode():` to turn off gradient tracking and make predictions:  \n",
        "  `y_preds = model_0(X_test)`  \n",
        "- This saves memory and makes inference faster.\n",
        "\n",
        "✅ **6. Visualize Predictions**  \n",
        "- Use `plot_predictions(predictions=y_preds)` to see model results.  \n",
        "- Blue dots = training data, Green dots = actual test data, Red dots = predicted test data.\n",
        "\n",
        "⚠️ **Important:**  \n",
        "- Since the model starts with random values, the predictions will be inaccurate at first.  \n",
        "- Training is needed to help the model learn correct weight and bias to improve predictions.\n"
      ],
      "metadata": {
        "id": "7V5ahLkyiYdI"
      }
    }
  ]
}