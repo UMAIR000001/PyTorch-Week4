{
  "nbformat": 4,
  "nbformat_minor": 0,
  "metadata": {
    "colab": {
      "provenance": [],
      "authorship_tag": "ABX9TyNpQSzR5G6PSG7Xea1cCgV9",
      "include_colab_link": true
    },
    "kernelspec": {
      "name": "python3",
      "display_name": "Python 3"
    },
    "language_info": {
      "name": "python"
    }
  },
  "cells": [
    {
      "cell_type": "markdown",
      "metadata": {
        "id": "view-in-github",
        "colab_type": "text"
      },
      "source": [
        "<a href=\"https://colab.research.google.com/github/UMAIR000001/PyTorch-Week4/blob/main/01_Pytorch_WorkFlow_Fundamentals.ipynb\" target=\"_parent\"><img src=\"https://colab.research.google.com/assets/colab-badge.svg\" alt=\"Open In Colab\"/></a>"
      ]
    },
    {
      "cell_type": "code",
      "execution_count": 2,
      "metadata": {
        "colab": {
          "base_uri": "https://localhost:8080/",
          "height": 35
        },
        "id": "0ZL2Imx283iV",
        "outputId": "8eb8f91f-c763-45e4-f4f8-7bd73d3becf4"
      },
      "outputs": [
        {
          "output_type": "execute_result",
          "data": {
            "text/plain": [
              "'2.6.0+cu124'"
            ],
            "application/vnd.google.colaboratory.intrinsic+json": {
              "type": "string"
            }
          },
          "metadata": {},
          "execution_count": 2
        }
      ],
      "source": [
        "import torch\n",
        "from torch import nn # nn contains all of PyTorch's building blocks for neural networks\n",
        "import matplotlib.pyplot as plt\n",
        "\n",
        "# Check PyTorch version\n",
        "torch.__version__"
      ]
    },
    {
      "cell_type": "markdown",
      "source": [
        " # Linear Regression:\n",
        "##Simple meaning:\n",
        ">A math method to draw a straight line through your data to find a pattern.\n",
        "\n",
        "# Weight:\n",
        "Weight gives a score to each input feature to tell the model how much that feature should contribute to the output.\n",
        "\n",
        "#Bias:\n",
        "Bias is a constant value added to the output of a model.\n",
        "It allows the model to make correct predictions even when all input features are zero.\n",
        "You can think of it as the model’s starting point or baseline guess — like bonus marks or luck."
      ],
      "metadata": {
        "id": "Iw8YKkM6-tgf"
      }
    },
    {
      "cell_type": "code",
      "source": [],
      "metadata": {
        "id": "fr3eB7np-tFs"
      },
      "execution_count": 2,
      "outputs": []
    },
    {
      "cell_type": "markdown",
      "source": [
        "#1. Data (preparing and loading):\n",
        ">Machine learning is a game of two parts:\n",
        "\n",
        "1.Turn your data, whatever it is, into numbers (a representation).\n",
        "\n",
        "2.Pick or build a model to learn the representation as best as possible."
      ],
      "metadata": {
        "id": "dXLjoGKX9WPg"
      }
    },
    {
      "cell_type": "code",
      "source": [
        "# Create *known* parameters\n",
        "weight = 0.7\n",
        "bias = 0.3\n",
        "\n",
        "# Create data\n",
        "start = 0\n",
        "end = 1\n",
        "step = 0.02\n",
        "X = torch.arange(start, end, step).unsqueeze(dim=1)\n",
        "y = weight * X + bias\n",
        "\n",
        "print(X[:10])\n",
        "print(\"\\n\",y[:10])"
      ],
      "metadata": {
        "colab": {
          "base_uri": "https://localhost:8080/"
        },
        "id": "MxdCFD-o9MHP",
        "outputId": "16f1238c-3f24-4d9b-cb73-c5a404205853"
      },
      "execution_count": 3,
      "outputs": [
        {
          "output_type": "stream",
          "name": "stdout",
          "text": [
            "tensor([[0.0000],\n",
            "        [0.0200],\n",
            "        [0.0400],\n",
            "        [0.0600],\n",
            "        [0.0800],\n",
            "        [0.1000],\n",
            "        [0.1200],\n",
            "        [0.1400],\n",
            "        [0.1600],\n",
            "        [0.1800]])\n",
            "\n",
            " tensor([[0.3000],\n",
            "        [0.3140],\n",
            "        [0.3280],\n",
            "        [0.3420],\n",
            "        [0.3560],\n",
            "        [0.3700],\n",
            "        [0.3840],\n",
            "        [0.3980],\n",
            "        [0.4120],\n",
            "        [0.4260]])\n"
          ]
        }
      ]
    },
    {
      "cell_type": "markdown",
      "source": [
        "#Split data into training and test sets :"
      ],
      "metadata": {
        "id": "aHiN9reZEW9f"
      }
    },
    {
      "cell_type": "code",
      "source": [
        "# Create train/test split\n",
        "train_split = int(0.8 * len(X)) # 80% of data used for training set, 20% for testing\n",
        "# X_train contains input and y_train conatins its label or output\n",
        "X_train, y_train = X[:train_split], y[:train_split]\n",
        "X_test, y_test = X[train_split:], y[train_split:]\n",
        "\n",
        "len(X_train), len(y_train), len(X_test), len(y_test)"
      ],
      "metadata": {
        "colab": {
          "base_uri": "https://localhost:8080/"
        },
        "id": "vMHviZC49MDw",
        "outputId": "6c972fa8-0441-4d76-a575-f7442c3fe9ba"
      },
      "execution_count": 4,
      "outputs": [
        {
          "output_type": "execute_result",
          "data": {
            "text/plain": [
              "(40, 40, 10, 10)"
            ]
          },
          "metadata": {},
          "execution_count": 4
        }
      ]
    },
    {
      "cell_type": "code",
      "source": [
        "# Simple example of concept for spliting data  into teo parts through their index numbers\n",
        "num=[1,2,3,4,5,6,7,8,9,10]\n",
        "train_set=int(0.7*len(num))\n",
        "\n",
        "training_data=num[:train_set]\n",
        "print(training_data)\n",
        "testing_data=num[train_set:]\n",
        "print(testing_data)"
      ],
      "metadata": {
        "colab": {
          "base_uri": "https://localhost:8080/"
        },
        "id": "1soGI9Yp9MAp",
        "outputId": "59c3596a-0c2e-4e97-c967-0dcac898b85c"
      },
      "execution_count": 5,
      "outputs": [
        {
          "output_type": "stream",
          "name": "stdout",
          "text": [
            "[1, 2, 3, 4, 5, 6, 7]\n",
            "[8, 9, 10]\n"
          ]
        }
      ]
    },
    {
      "cell_type": "markdown",
      "source": [
        "# Graph of data"
      ],
      "metadata": {
        "id": "Wy6BnB8XPBvw"
      }
    },
    {
      "cell_type": "code",
      "source": [
        "def plot_predictions(train_data=X_train,\n",
        "                     train_labels=y_train,\n",
        "                     test_data=X_test,\n",
        "                     test_labels=y_test,\n",
        "                     predictions=None):\n",
        "  \"\"\"\n",
        "  Plots training data, test data and compares predictions.\n",
        "  \"\"\"\n",
        "  plt.figure(figsize=(10, 7))\n",
        "\n",
        "  # Plot training data in blue\n",
        "  plt.scatter(train_data, train_labels, c=\"b\", s=7, label=\"Training data\")\n",
        "\n",
        "  # Plot test data in green\n",
        "  plt.scatter(test_data, test_labels, c=\"g\", s=4, label=\"Testing data\")\n",
        "\n",
        "  if predictions is not None:\n",
        "    # Plot the predictions in red (predictions were made on the test data)\n",
        "    plt.scatter(test_data, predictions, c=\"r\", s=4, label=\"Predictions\")\n",
        "\n",
        "  # Show the legend\n",
        "  plt.legend(prop={\"size\": 15});"
      ],
      "metadata": {
        "id": "-zSr6JAA9L9O"
      },
      "execution_count": 6,
      "outputs": []
    },
    {
      "cell_type": "code",
      "source": [
        "plot_predictions();"
      ],
      "metadata": {
        "colab": {
          "base_uri": "https://localhost:8080/",
          "height": 599
        },
        "id": "XucpJ-GoQJHT",
        "outputId": "fcf7c984-fa0f-462c-c2e2-20a4d2cb7b28"
      },
      "execution_count": 7,
      "outputs": [
        {
          "output_type": "display_data",
          "data": {
            "text/plain": [
              "<Figure size 1000x700 with 1 Axes>"
            ],
            "image/png": "[encoded data removed]"
          },
          "metadata": {}
        }
      ]
    },
    {
      "cell_type": "markdown",
      "source": [
        "# 📘 Core Concepts Revision – PyTorch Fundamentals data processing stage\n",
        "\n",
        "## 📌 Linear Regression\n",
        "- Linear regression is used to **find a straight-line relationship** between input and output.\n",
        "- The formula: `y = weight * X + bias`\n",
        "- Example: Predicting marks based on hours studied.\n",
        "\n",
        "## 📌 Input (X) and Output/Label (y)\n",
        "- **Input (X)**: What you give to the model (e.g. number of hours studied)\n",
        "- **Label/Output (y)**: The correct result the model should learn to predict (e.g. marks)\n",
        "- You always give the model `X` and compare its guess with `y`.\n",
        "\n",
        "## 📌 Weight (w)\n",
        "- The **importance or strength** of the input feature.\n",
        "- It tells the model **how much to trust** each input.\n",
        "- Example: If `weight = 0.7`, it means the input has a strong positive effect on the output.\n",
        "- You can think of it like: \"How seriously did I study?\"\n",
        "\n",
        "## 📌 Bias (b)\n",
        "- The **starting point** or shift of the output when input is zero.\n",
        "- It helps the model make accurate predictions even if input is 0.\n",
        "- You can think of it like **luck, support, or base marks** you already have.\n",
        "\n",
        "## 📌 Model Parameters\n",
        "- Parameters = values the model tries to learn during training.\n",
        "- In linear regression, `weight` and `bias` are both parameters.\n",
        "- The model changes these values to reduce error and fit the data better.\n",
        "\n",
        "## 📌 Labels\n",
        "- Labels are the **correct answers** the model tries to match.\n",
        "- During training, the model compares its predictions to labels using a loss function.\n",
        "\n",
        "## 📌 Training vs Testing\n",
        "- **Training data**: Used to teach the model (80% of the data)\n",
        "- **Testing data**: Used to evaluate the model's learning (20% of the data)\n",
        "- The model should learn from training and generalize well to testing.\n",
        "\n",
        "## 📌 Gradient Descent (Intro Concept)\n",
        "- A method for helping the model **find the best weight and bias**.\n",
        "- It works by **checking the error** and adjusting the weight and bias **step-by-step** to make the model better.\n",
        "- Think of it like a game of hot & cold: small changes are made to get closer to the correct result.\n",
        "\n",
        "## 🧠 Final Thought\n",
        "- All these concepts work together:\n",
        "  - You give input (`X`)\n",
        "  - The model uses `weight` and `bias` to make a prediction (`y_pred`)\n",
        "  - It compares prediction with the correct answer (`y`)\n",
        "  - Then uses **gradient descent** to update the `weight` and `bias`\n",
        "  - Over time, it learns to make **accurate predictions**.\n"
      ],
      "metadata": {
        "id": "NBwZLiJfTU_q"
      }
    },
    {
      "cell_type": "markdown",
      "source": [
        "# 2 Build Model :"
      ],
      "metadata": {
        "id": "MI24-v4WRguK"
      }
    },
    {
      "cell_type": "code",
      "source": [
        "# Create a Linear Regression model class\n",
        "class LinearRegressionModel(nn.Module): # <- almost everything in PyTorch is a nn.Module (think of this as neural network lego blocks)\n",
        "    def __init__(self):\n",
        "        super().__init__()\n",
        "        self.weights = nn.Parameter(torch.randn(1, # <- start with random weights (this will get adjusted as the model learns)\n",
        "                                                dtype=torch.float), # <- PyTorch loves float32 by default\n",
        "                                   requires_grad=True) # <- can we update this value with gradient descent?)\n",
        "\n",
        "        self.bias = nn.Parameter(torch.randn(1, # <- start with random bias (this will get adjusted as the model learns)\n",
        "                                            dtype=torch.float), # <- PyTorch loves float32 by default\n",
        "                                requires_grad=True) # <- can we update this value with gradient descent?))\n",
        "\n",
        "    # Forward defines the computation in the model\n",
        "    def forward(self, x: torch.Tensor) -> torch.Tensor: # <- \"x\" is the input data (e.g. training/testing features)\n",
        "        return self.weights * x + self.bias # <- this is the linear regression formula (y = m*x + b)"
      ],
      "metadata": {
        "id": "CiIxSymIQImP"
      },
      "execution_count": 8,
      "outputs": []
    },
    {
      "cell_type": "code",
      "source": [
        "# Set manual seed since nn.Parameter are randomly initialized\n",
        "torch.manual_seed(42)\n",
        "\n",
        "# Create an instance of the model (this is a subclass of nn.Module that contains nn.Parameter(s))\n",
        "model_0 = LinearRegressionModel()\n",
        "\n",
        "# Check the nn.Parameter(s) within the nn.Module subclass we created\n",
        "list(model_0.parameters())"
      ],
      "metadata": {
        "colab": {
          "base_uri": "https://localhost:8080/"
        },
        "id": "zZuptN2fdQra",
        "outputId": "5641a7ec-5d20-4970-9ded-9959cdc0628b"
      },
      "execution_count": 9,
      "outputs": [
        {
          "output_type": "execute_result",
          "data": {
            "text/plain": [
              "[Parameter containing:\n",
              " tensor([0.3367], requires_grad=True),\n",
              " Parameter containing:\n",
              " tensor([0.1288], requires_grad=True)]"
            ]
          },
          "metadata": {},
          "execution_count": 9
        }
      ]
    },
    {
      "cell_type": "code",
      "source": [
        "\n",
        "# List named parameters\n",
        "model_0.state_dict()"
      ],
      "metadata": {
        "colab": {
          "base_uri": "https://localhost:8080/"
        },
        "id": "RgLVTj2Qdo8F",
        "outputId": "78424e25-d6d8-47dc-d00d-602df462593e"
      },
      "execution_count": 10,
      "outputs": [
        {
          "output_type": "execute_result",
          "data": {
            "text/plain": [
              "OrderedDict([('weights', tensor([0.3367])), ('bias', tensor([0.1288]))])"
            ]
          },
          "metadata": {},
          "execution_count": 10
        }
      ]
    },
    {
      "cell_type": "code",
      "source": [
        "# Make predictions with model\n",
        "with torch.inference_mode():\n",
        "    y_preds = model_0(X_test)\n",
        "\n",
        "# Note: in older PyTorch code you might also see torch.no_grad()\n",
        "# with torch.no_grad():\n",
        "#   y_preds = model_0(X_test)"
      ],
      "metadata": {
        "id": "_h685LcygQeT"
      },
      "execution_count": 11,
      "outputs": []
    },
    {
      "cell_type": "code",
      "source": [
        "# Check the predictions\n",
        "print(f\"Number of testing samples: {len(X_test)}\")\n",
        "print(f\"Number of predictions made: {len(y_preds)}\")\n",
        "print(f\"Predicted values:\\n{y_preds}\")"
      ],
      "metadata": {
        "colab": {
          "base_uri": "https://localhost:8080/"
        },
        "id": "GQWrUnxNgQD2",
        "outputId": "c96a1df4-39db-4ddb-8b3e-75600da99bc4"
      },
      "execution_count": 12,
      "outputs": [
        {
          "output_type": "stream",
          "name": "stdout",
          "text": [
            "Number of testing samples: 10\n",
            "Number of predictions made: 10\n",
            "Predicted values:\n",
            "tensor([[0.3982],\n",
            "        [0.4049],\n",
            "        [0.4116],\n",
            "        [0.4184],\n",
            "        [0.4251],\n",
            "        [0.4318],\n",
            "        [0.4386],\n",
            "        [0.4453],\n",
            "        [0.4520],\n",
            "        [0.4588]])\n"
          ]
        }
      ]
    },
    {
      "cell_type": "code",
      "source": [
        "plot_predictions(predictions=y_preds)"
      ],
      "metadata": {
        "colab": {
          "base_uri": "https://localhost:8080/",
          "height": 599
        },
        "id": "9k6K8mUNgQBh",
        "outputId": "17a57dc6-f7f7-43e6-fab9-a92ae27344db"
      },
      "execution_count": 13,
      "outputs": [
        {
          "output_type": "display_data",
          "data": {
            "text/plain": [
              "<Figure size 1000x700 with 1 Axes>"
            ],
            "image/png": "[encoded data removed]"
          },
          "metadata": {}
        }
      ]
    },
    {
      "cell_type": "code",
      "source": [
        "y_test - y_preds"
      ],
      "metadata": {
        "colab": {
          "base_uri": "https://localhost:8080/"
        },
        "id": "njM7O4ZxgP_H",
        "outputId": "91909826-be3d-40c7-b01c-01f7953e4fc6"
      },
      "execution_count": 14,
      "outputs": [
        {
          "output_type": "execute_result",
          "data": {
            "text/plain": [
              "tensor([[0.4618],\n",
              "        [0.4691],\n",
              "        [0.4764],\n",
              "        [0.4836],\n",
              "        [0.4909],\n",
              "        [0.4982],\n",
              "        [0.5054],\n",
              "        [0.5127],\n",
              "        [0.5200],\n",
              "        [0.5272]])"
            ]
          },
          "metadata": {},
          "execution_count": 14
        }
      ]
    },
    {
      "cell_type": "markdown",
      "source": [
        "# 📌 Revision Summary: Building the Model in PyTorch\n",
        "\n",
        "✅ **1. Set Random Seed**  \n",
        "- `torch.manual_seed(42)` ensures weight and bias values are the same every time for reproducibility.\n",
        "\n",
        "✅ **2. Define the Model Class**  \n",
        "- We create a class `LinearRegressionModel(nn.Module)` which is a subclass of `nn.Module` (base class for all models in PyTorch).\n",
        "- Inside `__init__()`, we define:  \n",
        "  - `self.weights = nn.Parameter(torch.randn(1, dtype=torch.float), requires_grad=True)`  \n",
        "  - `self.bias = nn.Parameter(torch.randn(1, dtype=torch.float), requires_grad=True)`  \n",
        "- `nn.Parameter` makes these values learnable.\n",
        "- `requires_grad=True` means PyTorch will update these during training.\n",
        "- In the `forward(self, x)` method, we define how predictions are made:  \n",
        "  `y = weight * x + bias`\n",
        "\n",
        "✅ **3. Create Model Instance**  \n",
        "- `model_0 = LinearRegressionModel()` creates the model object from the class.\n",
        "\n",
        "✅ **4. View Initial Parameters**  \n",
        "- Use `list(model_0.parameters())` or `model_0.state_dict()` to view the initial random values of weight and bias.\n",
        "\n",
        "✅ **5. Make Predictions Before Training**  \n",
        "- Use `with torch.inference_mode():` to turn off gradient tracking and make predictions:  \n",
        "  `y_preds = model_0(X_test)`  \n",
        "- This saves memory and makes inference faster.\n",
        "\n",
        "✅ **6. Visualize Predictions**  \n",
        "- Use `plot_predictions(predictions=y_preds)` to see model results.  \n",
        "- Blue dots = training data, Green dots = actual test data, Red dots = predicted test data.\n",
        "\n",
        "⚠️ **Important:**  \n",
        "- Since the model starts with random values, the predictions will be inaccurate at first.  \n",
        "- Training is needed to help the model learn correct weight and bias to improve predictions.\n"
      ],
      "metadata": {
        "id": "7V5ahLkyiYdI"
      }
    },
    {
      "cell_type": "markdown",
      "source": [
        "#3. Train model:"
      ],
      "metadata": {
        "id": "zcT3E9N4eCO8"
      }
    },
    {
      "cell_type": "markdown",
      "source": [
        "#📘 Loss Function (in PyTorch)\n",
        "?✅ Simple Definition:\n",
        "A loss function tells the model how wrong its predictions are.\n",
        "#⚙️ Optimizer (in PyTorch)\n",
        ">✅ Simple Definition:\n",
        "An optimizer helps the model learn better guesses by changing the weights and bias values to reduce the loss."
      ],
      "metadata": {
        "id": "TuYX_J0oh0vq"
      }
    },
    {
      "cell_type": "code",
      "source": [
        "# Create the loss function\n",
        "loss_fn = nn.L1Loss() # MAE loss is same as L1Loss\n",
        "\n",
        "# Create the optimizer\n",
        "optimizer = torch.optim.SGD(params=model_0.parameters(), # parameters of target model to optimize\n",
        "                            lr=0.001) # learning rate (how much the optimizer should change parameters at each step, higher=more (less stable), lower=less (might take a long time))"
      ],
      "metadata": {
        "id": "411o3-b9kZ4U"
      },
      "execution_count": 34,
      "outputs": []
    },
    {
      "cell_type": "code",
      "source": [
        "torch.manual_seed(42)\n",
        "\n",
        "# Set the number of epochs (how many times the model will pass over the training data)\n",
        "epochs = 100\n",
        "\n",
        "# Create empty loss lists to track values\n",
        "train_loss_values = []\n",
        "test_loss_values = []\n",
        "epoch_count = []\n",
        "\n",
        "for epoch in range(epochs):\n",
        "    ### Training\n",
        "\n",
        "    # Put model in training mode (this is the default state of a model)\n",
        "    model_0.train()\n",
        "\n",
        "    # 1. Forward pass on train data using the forward() method inside\n",
        "    y_pred = model_0(X_train)\n",
        "    # print(y_pred)\n",
        "\n",
        "    # 2. Calculate the loss (how different are our models predictions to the ground truth)\n",
        "    loss = loss_fn(y_pred, y_train)\n",
        "\n",
        "    # 3. Zero grad of the optimizer\n",
        "    optimizer.zero_grad()\n",
        "\n",
        "    # 4. Loss backwards\n",
        "    loss.backward()\n",
        "\n",
        "    # 5. Progress the optimizer\n",
        "    optimizer.step()\n",
        "\n",
        "    ### Testing\n",
        "\n",
        "    # Put the model in evaluation mode\n",
        "    model_0.eval()\n",
        "\n",
        "    with torch.inference_mode():\n",
        "      # 1. Forward pass on test data\n",
        "      test_pred = model_0(X_test)\n",
        "\n",
        "      # 2. Caculate loss on test data\n",
        "      test_loss = loss_fn(test_pred, y_test.type(torch.float)) # predictions come in torch.float datatype, so comparisons need to be done with tensors of the same type\n",
        "\n",
        "      # Print out what's happening\n",
        "      if epoch % 10 == 0:\n",
        "            epoch_count.append(epoch)\n",
        "            train_loss_values.append(loss.detach().numpy())\n",
        "            test_loss_values.append(test_loss.detach().numpy())\n",
        "            print(f\"Epoch: {epoch} | MAE Train Loss: {loss} | MAE Test Loss: {test_loss} \")"
      ],
      "metadata": {
        "colab": {
          "base_uri": "https://localhost:8080/"
        },
        "id": "kuHkux7ToQ7c",
        "outputId": "b1097b25-e16f-4d7d-9cce-ae030030f0ae"
      },
      "execution_count": 35,
      "outputs": [
        {
          "output_type": "stream",
          "name": "stdout",
          "text": [
            "Epoch: 0 | MAE Train Loss: 0.008932482451200485 | MAE Test Loss: 0.007100802846252918 \n",
            "Epoch: 10 | MAE Train Loss: 0.000704666948877275 | MAE Test Loss: 0.0015523552428930998 \n",
            "Epoch: 20 | MAE Train Loss: 0.0003611445426940918 | MAE Test Loss: 0.0007936537149362266 \n",
            "Epoch: 30 | MAE Train Loss: 0.0008720018086023629 | MAE Test Loss: 2.879500425478909e-05 \n",
            "Epoch: 40 | MAE Train Loss: 0.0008720018086023629 | MAE Test Loss: 2.879500425478909e-05 \n",
            "Epoch: 50 | MAE Train Loss: 0.0008720018086023629 | MAE Test Loss: 2.879500425478909e-05 \n",
            "Epoch: 60 | MAE Train Loss: 0.0008720018086023629 | MAE Test Loss: 2.879500425478909e-05 \n",
            "Epoch: 70 | MAE Train Loss: 0.0008720018086023629 | MAE Test Loss: 2.879500425478909e-05 \n",
            "Epoch: 80 | MAE Train Loss: 0.0008720018086023629 | MAE Test Loss: 2.879500425478909e-05 \n",
            "Epoch: 90 | MAE Train Loss: 0.0008720018086023629 | MAE Test Loss: 2.879500425478909e-05 \n"
          ]
        }
      ]
    },
    {
      "cell_type": "markdown",
      "source": [
        "#With 100 epoch"
      ],
      "metadata": {
        "id": "er_1yWJ56jZU"
      }
    },
    {
      "cell_type": "code",
      "source": [
        "# Plot the loss curves\n",
        "plt.plot(epoch_count, train_loss_values, label=\"Train loss\")\n",
        "plt.plot(epoch_count, test_loss_values, label=\"Test loss\")\n",
        "plt.title(\"Training and test loss curves\")\n",
        "plt.ylabel(\"Loss\")\n",
        "plt.xlabel(\"Epochs\")\n",
        "plt.legend();"
      ],
      "metadata": {
        "colab": {
          "base_uri": "https://localhost:8080/",
          "height": 472
        },
        "id": "7CNX6bWm6hcx",
        "outputId": "f2bbbe68-bf8a-48bf-a8c3-bc2a6b32fb9d"
      },
      "execution_count": 36,
      "outputs": [
        {
          "output_type": "display_data",
          "data": {
            "text/plain": [
              "<Figure size 640x480 with 1 Axes>"
            ],
            "image/png": "[encoded data removed]"
          },
          "metadata": {}
        }
      ]
    },
    {
      "cell_type": "markdown",
      "source": [
        "# With 200 epochs :"
      ],
      "metadata": {
        "id": "o9HiuGkk6q13"
      }
    },
    {
      "cell_type": "code",
      "source": [
        "# Plot the loss curves\n",
        "plt.plot(epoch_count, train_loss_values, label=\"Train loss\")\n",
        "plt.plot(epoch_count, test_loss_values, label=\"Test loss\")\n",
        "plt.title(\"Training and test loss curves\")\n",
        "plt.ylabel(\"Loss\")\n",
        "plt.xlabel(\"Epochs\")\n",
        "plt.legend();"
      ],
      "metadata": {
        "colab": {
          "base_uri": "https://localhost:8080/",
          "height": 472
        },
        "id": "1sRbUx4T64Cg",
        "outputId": "770ed8fd-876f-4069-b4c8-596125312a7b"
      },
      "execution_count": 27,
      "outputs": [
        {
          "output_type": "display_data",
          "data": {
            "text/plain": [
              "<Figure size 640x480 with 1 Axes>"
            ],
            "image/png": "[encoded data removed]"
          },
          "metadata": {}
        }
      ]
    },
    {
      "cell_type": "markdown",
      "source": [
        "# 📌 Revision Summary: Step 3 — Train the Model & Analyze Loss in PyTorch\n",
        "\n",
        "## ✅ 1. Why Do We Train a Model?\n",
        "- At first, the model makes **random guesses** using untrained weights/bias.\n",
        "- Training helps the model **learn patterns** from data to make accurate predictions.\n",
        "\n",
        "---\n",
        "\n",
        "## ✅ 2. Components Used in Training\n",
        "\n",
        "### 🔹 Loss Function\n",
        "- Tells **how far off** the predictions are from actual values.\n",
        "- We used: `nn.L1Loss()` → **Mean Absolute Error (MAE)**\n",
        "\n",
        "### 🔹 Optimizer\n",
        "- Updates model weights to **reduce loss** during training.\n",
        "- We used: `torch.optim.SGD(params=model_0.parameters(), lr=0.01)`\n",
        "\n",
        "---\n",
        "\n",
        "## ✅ 3. Training Loop (in PyTorch)\n",
        "\n",
        "1. `model.train()` → Activates training mode.\n",
        "2. `y_pred = model(X_train)` → Forward pass: make prediction.\n",
        "3. `loss = loss_fn(y_pred, y_train)` → Compute training loss.\n",
        "4. `optimizer.zero_grad()` → Clear previous gradients.\n",
        "5. `loss.backward()` → Backpropagation: calculate gradients.\n",
        "6. `optimizer.step()` → Optimizer updates model weights.\n",
        "\n",
        "📌 Repeated for `epochs = 100`.\n",
        "\n",
        "---\n",
        "\n",
        "## ✅ 4. Testing Loop (Validation Phase)\n",
        "\n",
        "1. `model.eval()` → Switches to evaluation mode.\n",
        "2. `with torch.inference_mode():` → Disables gradient tracking for efficiency.\n",
        "3. `test_pred = model(X_test)` → Predict on test data.\n",
        "4. `test_loss = loss_fn(test_pred, y_test)` → Compute test loss.\n",
        "\n",
        "📌 No `.backward()` or `.step()` here — model is just being evaluated.\n",
        "\n",
        "---\n",
        "\n",
        "## ✅ 5. Analyzing Loss Curves 📉\n",
        "\n",
        "- Plotted training and test loss over epochs.\n",
        "- **Graph Observation**:\n",
        "  - Sharp drop in loss during early epochs (model learning fast).\n",
        "  - After ~30 epochs: both losses flatten near zero.\n",
        "  - **Test Loss = 0** means the model perfectly generalizes.\n",
        "  - No overfitting seen (train ≈ test loss).\n",
        "\n",
        "✅ This shows our model has **learned well** and **generalized** correctly.\n",
        "\n",
        "---\n",
        "\n",
        "## ✅ 6. Checking Learned Parameters\n",
        "\n",
        "- After training, check with: `model_0.state_dict()`\n",
        "- Compare learned weights & bias to original ones:\n",
        "  - Example Original: `weight = 0.7`, `bias = 0.3`\n",
        "  - Example Learned: `weight ≈ 0.578`, `bias ≈ 0.351`\n",
        "\n",
        "✅ This confirms the model has **approximated the original values**!\n",
        "\n",
        "---\n",
        "\n",
        "## 🔚 Final Summary:\n",
        "\n",
        "Model training = Teaching the model to **learn patterns** by:\n",
        "- Using **Loss Function** to measure errors\n",
        "- Applying **Optimizer** to reduce loss\n",
        "- Repeating with **Training Loop**\n",
        "- Checking performance using **Testing Loop**\n",
        "- Visualizing progress through **Loss Graphs**\n"
      ],
      "metadata": {
        "id": "B4B_lG_DBgf4"
      }
    },
    {
      "cell_type": "markdown",
      "source": [
        "#4. Making predictions with a trained PyTorch model (inference):"
      ],
      "metadata": {
        "id": "1976InaAGzT0"
      }
    },
    {
      "cell_type": "code",
      "source": [
        "# 1. Set the model in evaluation mode\n",
        "model_0.eval()\n",
        "\n",
        "# 2. Setup the inference mode context manager\n",
        "with torch.inference_mode():\n",
        "  # 3. Make sure the calculations are done with the model and data on the same device\n",
        "  # in our case, we haven't setup device-agnostic code yet so our data and model are\n",
        "  # on the CPU by default.\n",
        "  # model_0.to(device)\n",
        "  # X_test = X_test.to(device)\n",
        "  y_preds = model_0(X_test)\n",
        "y_preds"
      ],
      "metadata": {
        "id": "giYBxz5RG-Lx",
        "outputId": "03a75bfa-f35e-40ba-bed9-356087e68628",
        "colab": {
          "base_uri": "https://localhost:8080/"
        }
      },
      "execution_count": 40,
      "outputs": [
        {
          "output_type": "execute_result",
          "data": {
            "text/plain": [
              "tensor([[0.8588],\n",
              "        [0.8727],\n",
              "        [0.8867],\n",
              "        [0.9007],\n",
              "        [0.9147],\n",
              "        [0.9287],\n",
              "        [0.9426],\n",
              "        [0.9566],\n",
              "        [0.9706],\n",
              "        [0.9846]])"
            ]
          },
          "metadata": {},
          "execution_count": 40
        }
      ]
    },
    {
      "cell_type": "code",
      "source": [
        "plot_predictions(predictions=y_preds)"
      ],
      "metadata": {
        "id": "pG200v9WJd0j",
        "outputId": "c58b5d84-9480-46b9-97d6-52edfd52052d",
        "colab": {
          "base_uri": "https://localhost:8080/",
          "height": 599
        }
      },
      "execution_count": 41,
      "outputs": [
        {
          "output_type": "display_data",
          "data": {
            "text/plain": [
              "<Figure size 1000x700 with 1 Axes>"
            ],
            "image/png": "[encoded data removed]"
          },
          "metadata": {}
        }
      ]
    },
    {
      "cell_type": "markdown",
      "source": [
        "# 📌 Revision Summary: Step 4 — Making Predictions with a Trained Model (Inference)\n",
        "\n",
        "---\n",
        "\n",
        "## ✅ 1. What is Inference?\n",
        "\n",
        "- Inference means **using a trained model to make predictions**.\n",
        "- It’s like telling a student:  \n",
        "  > “You’ve studied enough. Now solve some new questions.”\n",
        "\n",
        "---\n",
        "\n",
        "## ✅ 2. Three Things to Do Before Predicting\n",
        "\n",
        "### 🔹 `model.eval()`\n",
        "- Tells the model:  \n",
        "  > “You’re in exam mode now, no more learning.”\n",
        "- Disables features like **dropout**, used only during training.\n",
        "\n",
        "### 🔹 `with torch.inference_mode():`\n",
        "- Stops PyTorch from tracking gradients.\n",
        "- Makes prediction **faster** and uses **less memory**.\n",
        "\n",
        "### 🔹 Keep Data and Model on Same Device\n",
        "- Both model and data should be on either **CPU or GPU** (not mixed).\n",
        "- Else PyTorch will show an error.\n",
        "\n",
        "---\n",
        "\n",
        "## ✅ 3. PyTorch Code for Inference\n",
        "\n",
        "```python\n",
        "# Step 1: Evaluation mode\n",
        "model_0.eval()\n",
        "\n",
        "# Step 2: Inference mode\n",
        "with torch.inference_mode():\n",
        "    # Step 3: Predict on test data\n",
        "    y_preds = model_0(X_test)\n",
        "\n",
        "# Check predictions\n",
        "y_preds\n"
      ],
      "metadata": {
        "id": "KogXv0N1Leq1"
      }
    },
    {
      "cell_type": "markdown",
      "source": [],
      "metadata": {
        "id": "cSkjlpqjLirz"
      }
    }
  ]
}